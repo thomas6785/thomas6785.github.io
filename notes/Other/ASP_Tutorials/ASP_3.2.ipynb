{
 "cells": [
  {
   "cell_type": "code",
   "execution_count": 1,
   "metadata": {},
   "outputs": [],
   "source": [
    "import numpy as np\n",
    "from numpy import random\n",
    "import matplotlib.pyplot as plt\n",
    "from numpy import pi\n",
    "from numpy import cos"
   ]
  },
  {
   "cell_type": "markdown",
   "metadata": {},
   "source": [
    "$X(t)=cos(t+\\phi)$"
   ]
  },
  {
   "cell_type": "code",
   "execution_count": 12,
   "metadata": {},
   "outputs": [
    {
     "name": "stdout",
     "output_type": "stream",
     "text": [
      "0.005964190876197963 0.0009929618686626458\n"
     ]
    }
   ],
   "source": [
    "t1 = 1\n",
    "t2 = 3\n",
    "\n",
    "nSamples = 50000\n",
    "myphi = 2*pi*random.rand(nSamples) # Uniformly distributed values between 0 and 2*pi\n",
    "\n",
    "Xt1 = cos(t1 + myphi)\n",
    "Xt2 = cos(t2 + myphi)\n",
    "\n",
    "mu_t1 = Xt1.mean()\n",
    "mu_t2 = Xt2.mean()\n",
    "\n",
    "print(mu_t1,mu_t2)"
   ]
  },
  {
   "cell_type": "code",
   "execution_count": 14,
   "metadata": {},
   "outputs": [
    {
     "name": "stdout",
     "output_type": "stream",
     "text": [
      "-0.20726708898702337\n"
     ]
    }
   ],
   "source": [
    "Y = Xt1*Xt2\n",
    "r_Xt1Xt2 = Y.mean()\n",
    "print(r_Xt1Xt2)"
   ]
  },
  {
   "cell_type": "code",
   "execution_count": null,
   "metadata": {},
   "outputs": [],
   "source": [
    "delta_t = 10\n",
    "t3 = t1 + delta_t\n",
    "t4 = t2 + delta_t\n",
    "# Time shift b"
   ]
  }
 ],
 "metadata": {
  "kernelspec": {
   "display_name": "Python 3",
   "language": "python",
   "name": "python3"
  },
  "language_info": {
   "codemirror_mode": {
    "name": "ipython",
    "version": 3
   },
   "file_extension": ".py",
   "mimetype": "text/x-python",
   "name": "python",
   "nbconvert_exporter": "python",
   "pygments_lexer": "ipython3",
   "version": "3.10.7"
  }
 },
 "nbformat": 4,
 "nbformat_minor": 2
}
