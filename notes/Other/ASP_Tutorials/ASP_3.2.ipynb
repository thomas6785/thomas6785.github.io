{
 "cells": [
  {
   "cell_type": "code",
   "execution_count": null,
   "metadata": {},
   "outputs": [],
   "source": [
    "import numpy as np\n",
    "from numpy import random\n",
    "import matplotlib.pyplot as plt\n",
    "from numpy import pi\n",
    "from numpy import cos"
   ]
  },
  {
   "cell_type": "markdown",
   "metadata": {},
   "source": [
    "$X(t)=cos(t+\\phi)$"
   ]
  },
  {
   "cell_type": "code",
   "execution_count": null,
   "metadata": {},
   "outputs": [],
   "source": [
    "t1 = 1\n",
    "t2 = 3\n",
    "\n",
    "nSamples = 5\n",
    "myphi = 2*pi*random.rand(nSamples) # Uniformly distributed values between 0 and 2*pi\n",
    "\n",
    "Xt1 = cos(t1 + myphi)\n",
    "Xt2 = cos(t2 + myphi)\n",
    "\n",
    "mu_t1 = Xt1.mean()\n",
    "mu_t2 = Xt2.mean()\n",
    "\n",
    "print(mu_t1,mu_ut2)"
   ]
  }
 ],
 "metadata": {
  "language_info": {
   "name": "python"
  }
 },
 "nbformat": 4,
 "nbformat_minor": 2
}
