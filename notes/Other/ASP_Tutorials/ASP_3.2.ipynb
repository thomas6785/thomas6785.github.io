{
 "cells": [
  {
   "cell_type": "code",
   "execution_count": 1,
   "metadata": {},
   "outputs": [],
   "source": [
    "import numpy as np\n",
    "from numpy import random\n",
    "import matplotlib.pyplot as plt\n",
    "from numpy import pi\n",
    "from numpy import cos"
   ]
  },
  {
   "cell_type": "markdown",
   "metadata": {},
   "source": [
    "$X(t)=cos(t+\\phi)$"
   ]
  },
  {
   "cell_type": "code",
   "execution_count": 12,
   "metadata": {},
   "outputs": [
    {
     "name": "stdout",
     "output_type": "stream",
     "text": [
      "0.005964190876197963 0.0009929618686626458\n"
     ]
    }
   ],
   "source": [
    "t1 = 1\n",
    "t2 = 3\n",
    "\n",
    "nSamples = 50000\n",
    "myphi = 2*pi*random.rand(nSamples) # Uniformly distributed values between 0 and 2*pi\n",
    "\n",
    "Xt1 = cos(t1 + myphi)\n",
    "Xt2 = cos(t2 + myphi)\n",
    "\n",
    "mu_t1 = Xt1.mean()\n",
    "mu_t2 = Xt2.mean()\n",
    "\n",
    "print(mu_t1,mu_t2)"
   ]
  },
  {
   "cell_type": "code",
   "execution_count": 30,
   "metadata": {},
   "outputs": [
    {
     "name": "stdout",
     "output_type": "stream",
     "text": [
      "-0.20726708898702337\n"
     ]
    }
   ],
   "source": [
    "Y = Xt1*Xt2\n",
    "r_Xt1Xt2 = Y.mean()\n",
    "print(r_Xt1Xt2)"
   ]
  },
  {
   "cell_type": "code",
   "execution_count": 27,
   "metadata": {},
   "outputs": [
    {
     "name": "stdout",
     "output_type": "stream",
     "text": [
      "-0.0020544266708157188 0.002278078482986995\n",
      "-0.20861964230880126\n"
     ]
    }
   ],
   "source": [
    "delta_t = 10000.1346\n",
    "t3 = t1 + delta_t\n",
    "t4 = t2 + delta_t\n",
    "# Time shift by delta_t\n",
    "\n",
    "nSamples = 50000\n",
    "myphi = 2*pi*random.rand(nSamples) # Uniformly distributed values between 0 and 2*pi\n",
    "\n",
    "Xt3 = cos(t3 + myphi)\n",
    "Xt4 = cos(t4 + myphi)\n",
    "\n",
    "mu_t3 = Xt3.mean()\n",
    "mu_t4 = Xt4.mean()\n",
    "\n",
    "print(mu_t3,mu_t4)\n",
    "Y = Xt3*Xt4\n",
    "r_Xt3Xt4 = Y.mean()\n",
    "print(r_Xt3Xt4)"
   ]
  }
 ],
 "metadata": {
  "kernelspec": {
   "display_name": "Python 3",
   "language": "python",
   "name": "python3"
  },
  "language_info": {
   "codemirror_mode": {
    "name": "ipython",
    "version": 3
   },
   "file_extension": ".py",
   "mimetype": "text/x-python",
   "name": "python",
   "nbconvert_exporter": "python",
   "pygments_lexer": "ipython3",
   "version": "3.10.7"
  }
 },
 "nbformat": 4,
 "nbformat_minor": 2
}
